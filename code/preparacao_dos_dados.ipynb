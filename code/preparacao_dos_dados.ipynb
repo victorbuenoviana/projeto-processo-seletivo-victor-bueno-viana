{
 "cells": [
  {
   "cell_type": "markdown",
   "metadata": {},
   "source": [
    "### Desabilitando os warnings"
   ]
  },
  {
   "cell_type": "code",
   "execution_count": 150,
   "metadata": {},
   "outputs": [],
   "source": [
    "import warnings\n",
    "warnings.filterwarnings('ignore')"
   ]
  },
  {
   "cell_type": "markdown",
   "metadata": {},
   "source": [
    "### Importando bibliotecas"
   ]
  },
  {
   "cell_type": "code",
   "execution_count": 151,
   "metadata": {},
   "outputs": [],
   "source": [
    "import pandas as pd"
   ]
  },
  {
   "cell_type": "markdown",
   "metadata": {},
   "source": [
    "### Importando conjuntos de dados tratados"
   ]
  },
  {
   "cell_type": "code",
   "execution_count": 152,
   "metadata": {},
   "outputs": [],
   "source": [
    "df_orders = pd.read_parquet(\n",
    "    r\"..\\data\\df_orders.parquet\")\n",
    "\n",
    "df_person = pd.read_parquet(\n",
    "    r\"..\\data\\df_people.parquet\")\n",
    "\n",
    "df_returns = pd.read_parquet(\n",
    "    r\"..\\data\\df_returns.parquet\")"
   ]
  },
  {
   "cell_type": "markdown",
   "metadata": {},
   "source": [
    "### Análise de Vendas por Região e Responsável"
   ]
  },
  {
   "cell_type": "markdown",
   "metadata": {},
   "source": [
    "- Insight: Quais regiões estão gerando mais vendas e quais são os responsáveis por elas?\n",
    "\n",
    "- Dashboard: Um gráfico de barras empilhadas ou um mapa interativo que mostre as vendas por\n",
    "região, destacando o responsável (usando a tabela \"people\"). Isso ajuda a identificar a performance\n",
    "por líder de cada região"
   ]
  },
  {
   "cell_type": "code",
   "execution_count": 153,
   "metadata": {},
   "outputs": [],
   "source": [
    "df_sales_x_region = df_orders[[\"Sales\",\"Region\"]].groupby([\"Region\"]).sum()[[\"Sales\"]].reset_index()\n",
    "df_sales_x_region = df_sales_x_region[[\"Region\", \"Sales\"]].merge(df_person, on=\"Region\", how=\"left\")\n",
    "df_sales_x_region = df_sales_x_region.sort_values(by=\"Sales\", ascending=False)"
   ]
  },
  {
   "cell_type": "code",
   "execution_count": 154,
   "metadata": {},
   "outputs": [],
   "source": [
    "df_sales_x_region[\"Region\"] = df_sales_x_region[\"Region\"].astype(\"category\")\n",
    "df_sales_x_region[\"Person\"] = df_sales_x_region[\"Person\"].astype(\"category\")\n",
    "df_sales_x_region[\"Sales\"] = df_sales_x_region[\"Sales\"].apply(pd.to_numeric, downcast = \"integer\")"
   ]
  },
  {
   "cell_type": "code",
   "execution_count": 155,
   "metadata": {},
   "outputs": [
    {
     "data": {
      "text/html": [
       "<div>\n",
       "<style scoped>\n",
       "    .dataframe tbody tr th:only-of-type {\n",
       "        vertical-align: middle;\n",
       "    }\n",
       "\n",
       "    .dataframe tbody tr th {\n",
       "        vertical-align: top;\n",
       "    }\n",
       "\n",
       "    .dataframe thead th {\n",
       "        text-align: right;\n",
       "    }\n",
       "</style>\n",
       "<table border=\"1\" class=\"dataframe\">\n",
       "  <thead>\n",
       "    <tr style=\"text-align: right;\">\n",
       "      <th></th>\n",
       "      <th>Region</th>\n",
       "      <th>Sales</th>\n",
       "      <th>Person</th>\n",
       "    </tr>\n",
       "  </thead>\n",
       "  <tbody>\n",
       "    <tr>\n",
       "      <th>3</th>\n",
       "      <td>Central</td>\n",
       "      <td>2.822303e+06</td>\n",
       "      <td>Anna Andreadi</td>\n",
       "    </tr>\n",
       "    <tr>\n",
       "      <th>10</th>\n",
       "      <td>South</td>\n",
       "      <td>1.600907e+06</td>\n",
       "      <td>Chuck Magee</td>\n",
       "    </tr>\n",
       "    <tr>\n",
       "      <th>7</th>\n",
       "      <td>North</td>\n",
       "      <td>1.248166e+06</td>\n",
       "      <td>Jack Lebron</td>\n",
       "    </tr>\n",
       "  </tbody>\n",
       "</table>\n",
       "</div>"
      ],
      "text/plain": [
       "     Region         Sales         Person\n",
       "3   Central  2.822303e+06  Anna Andreadi\n",
       "10    South  1.600907e+06    Chuck Magee\n",
       "7     North  1.248166e+06    Jack Lebron"
      ]
     },
     "execution_count": 155,
     "metadata": {},
     "output_type": "execute_result"
    }
   ],
   "source": [
    "df_sales_x_region.head(3)"
   ]
  },
  {
   "cell_type": "code",
   "execution_count": 156,
   "metadata": {},
   "outputs": [],
   "source": [
    "df_sales_x_region.to_parquet(r\"..\\reports\\Análise de Vendas por Região e Responsável\\df_sales_x_region.parquet\")"
   ]
  },
  {
   "cell_type": "markdown",
   "metadata": {},
   "source": [
    "###  Análise de Devoluções por Mercado"
   ]
  },
  {
   "cell_type": "markdown",
   "metadata": {},
   "source": [
    "- Insight: Quais mercados têm o maior número de devoluções? Como isso afeta as vendas e o lucro?\n",
    "\n",
    "- Dashboard: Gráfico de barras mostrando o número de devoluções por mercado (LATAM, EU,\n",
    "United States). Pode-se cruzar com o impacto nas vendas e no lucro, mostrando quanto de receita\n",
    "foi perdida por devoluções."
   ]
  },
  {
   "cell_type": "code",
   "execution_count": 157,
   "metadata": {},
   "outputs": [],
   "source": [
    "df_devol_merc = (df_orders[[\"Order ID\", \"Market\", \"Sales\"]]\n",
    "                 .merge(df_returns,\n",
    "                       on=['Order ID',\"Market\"], \n",
    "                       how= \"left\"))\n",
    "\n",
    "df_devol_merc[\"Returned\"] = (df_devol_merc[\"Returned\"]\n",
    "                             .astype(str)\n",
    "                             .replace(\"nan\", \"Não Devolvido\"))\n",
    "\n",
    "df_devol_merc_devolvidos = df_devol_merc.loc[df_devol_merc[\"Returned\"] == \"Devolvido\"]\n",
    "df_devol_merc_nao_devolvidos = df_devol_merc.loc[df_devol_merc[\"Returned\"] == \"Não Devolvido\"]"
   ]
  },
  {
   "cell_type": "code",
   "execution_count": 158,
   "metadata": {},
   "outputs": [],
   "source": [
    "df_devol_merc = (df_devol_merc[[\"Market\", \"Sales\"]]\n",
    "                 .groupby(\"Market\").sum()\n",
    "                 .sort_values(by=\"Sales\",\n",
    "                              ascending=False))\n",
    "\n",
    "df_devol_merc_devolvidos = (df_devol_merc_devolvidos[[\"Market\", \"Sales\"]]\n",
    "                            .groupby(\"Market\").sum()\n",
    "                            .sort_values(by=\"Sales\",\n",
    "                                         ascending=False))\n",
    "\n",
    "df_devol_merc_nao_devolvidos = (df_devol_merc_nao_devolvidos[[\"Market\", \"Sales\"]]\n",
    "                                .groupby(\"Market\").sum()\n",
    "                                .sort_values(by=\"Sales\",\n",
    "                                             ascending=False))"
   ]
  },
  {
   "cell_type": "code",
   "execution_count": 159,
   "metadata": {},
   "outputs": [],
   "source": [
    "df_devol_merc.to_parquet(r\"..\\reports\\Análise de Devoluções por Mercado\\df_devol_merc.parquet\")\n",
    "df_devol_merc_devolvidos.to_parquet(r\"..\\reports\\Análise de Devoluções por Mercado\\df_devol_merc_devolvidos.parquet\")\n",
    "df_devol_merc_nao_devolvidos.to_parquet(r\"..\\reports\\Análise de Devoluções por Mercado\\df_devol_merc_nao_devolvidos.parquet\")"
   ]
  },
  {
   "cell_type": "markdown",
   "metadata": {},
   "source": [
    "### Análise de Vendas e Devoluções por Produto"
   ]
  },
  {
   "cell_type": "markdown",
   "metadata": {},
   "source": [
    "- Insight: Quais produtos têm maior número de devoluções? Isso está impactando a lucratividade?\n",
    "\n",
    "- Dashboard: Uma tabela ou gráfico de barras que combine os dados de vendas e devoluções por\n",
    "produto. Produtos com alta taxa de devolução podem estar prejudicando o desempenho financeiro."
   ]
  },
  {
   "cell_type": "code",
   "execution_count": 160,
   "metadata": {},
   "outputs": [],
   "source": [
    "df_devol_prod = (df_orders[\n",
    "    [\"Order ID\", \"Market\", \"Product Name\", \"Sales\"]]\n",
    "    .merge(df_returns,\n",
    "           on=['Order ID',\"Market\"], \n",
    "           how= \"left\"))\n",
    "\n",
    "df_devol_prod[\"Returned\"] = (df_devol_prod[\"Returned\"]\n",
    "                             .astype(str)\n",
    "                             .replace(\"nan\", \"Não Devolvido\"))\n",
    "\n",
    "df_devol_prod_devolvidos = (\n",
    "    df_devol_prod.loc[df_devol_prod[\"Returned\"] == \"Devolvido\"])"
   ]
  },
  {
   "cell_type": "code",
   "execution_count": 161,
   "metadata": {},
   "outputs": [
    {
     "data": {
      "text/html": [
       "<div>\n",
       "<style scoped>\n",
       "    .dataframe tbody tr th:only-of-type {\n",
       "        vertical-align: middle;\n",
       "    }\n",
       "\n",
       "    .dataframe tbody tr th {\n",
       "        vertical-align: top;\n",
       "    }\n",
       "\n",
       "    .dataframe thead th {\n",
       "        text-align: right;\n",
       "    }\n",
       "</style>\n",
       "<table border=\"1\" class=\"dataframe\">\n",
       "  <thead>\n",
       "    <tr style=\"text-align: right;\">\n",
       "      <th></th>\n",
       "      <th>Sales</th>\n",
       "      <th>Returns</th>\n",
       "      <th>tx.Return</th>\n",
       "    </tr>\n",
       "    <tr>\n",
       "      <th>Product Name</th>\n",
       "      <th></th>\n",
       "      <th></th>\n",
       "      <th></th>\n",
       "    </tr>\n",
       "  </thead>\n",
       "  <tbody>\n",
       "    <tr>\n",
       "      <th>Acco Glide Clips</th>\n",
       "      <td>19.600000</td>\n",
       "      <td>19.600000</td>\n",
       "      <td>100.000000</td>\n",
       "    </tr>\n",
       "    <tr>\n",
       "      <th>Okidata B401 Printer</th>\n",
       "      <td>179.990997</td>\n",
       "      <td>179.990997</td>\n",
       "      <td>100.000000</td>\n",
       "    </tr>\n",
       "    <tr>\n",
       "      <th>Avery 500</th>\n",
       "      <td>58.480000</td>\n",
       "      <td>58.480000</td>\n",
       "      <td>100.000000</td>\n",
       "    </tr>\n",
       "    <tr>\n",
       "      <th>Canon Color Imageclass Mf8580Cdw Wireless Laser AllInOne Printer Copier Scanner</th>\n",
       "      <td>1007.979004</td>\n",
       "      <td>1007.979004</td>\n",
       "      <td>100.000000</td>\n",
       "    </tr>\n",
       "    <tr>\n",
       "      <th>Zebra Gk420T Direct ThermalThermal Transfer Printer</th>\n",
       "      <td>703.710022</td>\n",
       "      <td>703.710022</td>\n",
       "      <td>100.000000</td>\n",
       "    </tr>\n",
       "    <tr>\n",
       "      <th>...</th>\n",
       "      <td>...</td>\n",
       "      <td>...</td>\n",
       "      <td>...</td>\n",
       "    </tr>\n",
       "    <tr>\n",
       "      <th>Bic Pens EasyErase</th>\n",
       "      <td>1410.719517</td>\n",
       "      <td>9.700000</td>\n",
       "      <td>0.687592</td>\n",
       "    </tr>\n",
       "    <tr>\n",
       "      <th>Ibico 3Hole Punch Clear</th>\n",
       "      <td>2615.031311</td>\n",
       "      <td>17.945999</td>\n",
       "      <td>0.686263</td>\n",
       "    </tr>\n",
       "    <tr>\n",
       "      <th>Ibico Binder Covers Recycled</th>\n",
       "      <td>1639.963919</td>\n",
       "      <td>11.208000</td>\n",
       "      <td>0.683430</td>\n",
       "    </tr>\n",
       "    <tr>\n",
       "      <th>Bush Library With Doors Metal</th>\n",
       "      <td>28516.714050</td>\n",
       "      <td>194.016006</td>\n",
       "      <td>0.680359</td>\n",
       "    </tr>\n",
       "    <tr>\n",
       "      <th>Stanley Pencil Sharpener EasyErase</th>\n",
       "      <td>1741.034432</td>\n",
       "      <td>10.416000</td>\n",
       "      <td>0.598265</td>\n",
       "    </tr>\n",
       "  </tbody>\n",
       "</table>\n",
       "<p>1917 rows × 3 columns</p>\n",
       "</div>"
      ],
      "text/plain": [
       "                                                           Sales      Returns  \\\n",
       "Product Name                                                                    \n",
       "Acco Glide Clips                                       19.600000    19.600000   \n",
       "Okidata B401 Printer                                  179.990997   179.990997   \n",
       "Avery 500                                              58.480000    58.480000   \n",
       "Canon Color Imageclass Mf8580Cdw Wireless Laser...   1007.979004  1007.979004   \n",
       "Zebra Gk420T Direct ThermalThermal Transfer Pri...    703.710022   703.710022   \n",
       "...                                                          ...          ...   \n",
       "Bic Pens EasyErase                                   1410.719517     9.700000   \n",
       "Ibico 3Hole Punch Clear                              2615.031311    17.945999   \n",
       "Ibico Binder Covers Recycled                         1639.963919    11.208000   \n",
       "Bush Library With Doors Metal                       28516.714050   194.016006   \n",
       "Stanley Pencil Sharpener EasyErase                   1741.034432    10.416000   \n",
       "\n",
       "                                                     tx.Return  \n",
       "Product Name                                                    \n",
       "Acco Glide Clips                                    100.000000  \n",
       "Okidata B401 Printer                                100.000000  \n",
       "Avery 500                                           100.000000  \n",
       "Canon Color Imageclass Mf8580Cdw Wireless Laser...  100.000000  \n",
       "Zebra Gk420T Direct ThermalThermal Transfer Pri...  100.000000  \n",
       "...                                                        ...  \n",
       "Bic Pens EasyErase                                    0.687592  \n",
       "Ibico 3Hole Punch Clear                               0.686263  \n",
       "Ibico Binder Covers Recycled                          0.683430  \n",
       "Bush Library With Doors Metal                         0.680359  \n",
       "Stanley Pencil Sharpener EasyErase                    0.598265  \n",
       "\n",
       "[1917 rows x 3 columns]"
      ]
     },
     "execution_count": 161,
     "metadata": {},
     "output_type": "execute_result"
    }
   ],
   "source": [
    "df_devol_prod = (df_devol_prod[[\"Product Name\", \"Sales\"]]\n",
    "                 .groupby(\"Product Name\").sum()\n",
    "                 .sort_values(by=\"Sales\",\n",
    "                              ascending=False))\n",
    "\n",
    "df_devol_prod_devolvidos = (df_devol_prod_devolvidos[\n",
    "    [\"Product Name\", \"Sales\"]]\n",
    "    .groupby(\"Product Name\").sum()\n",
    "    .sort_values(by=\"Sales\",\n",
    "                 ascending=False))\n",
    "df_devol_prod_devolvidos.columns = [\"Returns\"]\n",
    "\n",
    "df_devol_prod = (df_devol_prod\n",
    "                 .merge(df_devol_prod_devolvidos,\n",
    "                        on=\"Product Name\",\n",
    "                        how=\"left\"))\n",
    "\n",
    "df_devol_prod = df_devol_prod.dropna()\n",
    "# df_devol_prod[\"Returns\"] = df_devol_prod[\"Returns\"].fillna(0)\n",
    "\n",
    "df_devol_prod[\"tx.Return\"] = (\n",
    "    df_devol_prod[\"Returns\"]/df_devol_prod[\"Sales\"])\n",
    "df_devol_prod = (df_devol_prod\n",
    "                 .sort_values(by=\"tx.Return\",\n",
    "                              ascending=False))\n",
    "df_devol_prod[\"tx.Return\"] = df_devol_prod[\"tx.Return\"] * 100\n",
    "\n",
    "\n",
    "df_devol_prod"
   ]
  },
  {
   "cell_type": "code",
   "execution_count": 162,
   "metadata": {},
   "outputs": [],
   "source": [
    "# df_devol_prod_tx_devol = df_devol_prod.copy()\n",
    "# df_devol_prod_tx_devol.columns = [\"Total\"]\n",
    "# df_devol_prod_tx_devol[\"Returns\"] =  df_devol_prod_devolvidos[\"Sales\"]\n",
    "# df_devol_prod_tx_devol[\"Returns\"] =  df_devol_prod_tx_devol[\"Returns\"].fillna(0)\n",
    "# df_devol_prod_tx_devol[\"tx.Return\"] = (\n",
    "#     df_devol_prod_tx_devol[\"Returns\"] / df_devol_prod_tx_devol[\"Total\"])\n",
    "\n",
    "# df_devol_prod_tx_devol = df_devol_prod_tx_devol[[\"tx.Return\"]]"
   ]
  },
  {
   "cell_type": "code",
   "execution_count": 163,
   "metadata": {},
   "outputs": [],
   "source": [
    "df_devol_prod.to_parquet(\n",
    "    r\"..\\reports\\Análise de Vendas e Devoluções por Produto\\df_devol_prod.parquet\")\n",
    "# df_devol_prod_devolvidos.to_parquet(\n",
    "#     r\"..\\reports\\Análise de Vendas e Devoluções por Produto\\df_devol_prod_devolvidos.parquet\")\n",
    "\n",
    "# df_devol_prod_tx_devol.to_parquet(\n",
    "#     r\"..\\reports\\Análise de Vendas e Devoluções por Produto\\df_devol_prod_tx_devol.parquet\")"
   ]
  },
  {
   "cell_type": "markdown",
   "metadata": {},
   "source": [
    "###  Análise de Lucratividade por Produto e Devoluções"
   ]
  },
  {
   "cell_type": "markdown",
   "metadata": {},
   "source": [
    "- Insight: Quais produtos continuam lucrativos mesmo após devoluções?\n",
    "\n",
    "\n",
    "- Dashboard: Gráfico de barras empilhadas que mostre o lucro antes e depois de considerar as\n",
    "devoluções por produto."
   ]
  },
  {
   "cell_type": "code",
   "execution_count": null,
   "metadata": {},
   "outputs": [],
   "source": []
  },
  {
   "cell_type": "markdown",
   "metadata": {},
   "source": [
    "###  Custo de Envio e Devoluções por País"
   ]
  },
  {
   "cell_type": "markdown",
   "metadata": {},
   "source": [
    "- Insight: Quais países têm maior custo de envio e também sofrem mais com devoluções? Isso está\n",
    "corroendo os lucros?\n",
    "\n",
    "- Dashboard: Gráfico de barras ou mapa com o custo de envio médio por país, destacando as\n",
    "devoluções."
   ]
  },
  {
   "cell_type": "code",
   "execution_count": null,
   "metadata": {},
   "outputs": [],
   "source": []
  },
  {
   "cell_type": "markdown",
   "metadata": {},
   "source": [
    "### Análise de Prioridade de Pedidos e Devoluções"
   ]
  },
  {
   "cell_type": "markdown",
   "metadata": {},
   "source": [
    "- Insight: Existe uma relação entre a prioridade dos pedidos e as devoluções? Pedidos com alta\n",
    "prioridade têm mais devoluções?\n",
    "\n",
    "- Dashboard: Gráfico de rosca ou barras mostrando a distribuição de devoluções por prioridade de\n",
    "pedido (Critical, Medium).\n"
   ]
  },
  {
   "cell_type": "code",
   "execution_count": null,
   "metadata": {},
   "outputs": [],
   "source": []
  },
  {
   "cell_type": "markdown",
   "metadata": {},
   "source": [
    "### Correlação entre Devoluções e Desconto"
   ]
  },
  {
   "cell_type": "markdown",
   "metadata": {},
   "source": [
    "- Insight: Produtos com desconto estão mais propensos a serem devolvidos?\n",
    "\n",
    "- Dashboard: Gráfico de dispersão que relacione o percentual de desconto com o número de\n",
    "devoluções por produto.\n"
   ]
  },
  {
   "cell_type": "code",
   "execution_count": null,
   "metadata": {},
   "outputs": [],
   "source": []
  },
  {
   "cell_type": "markdown",
   "metadata": {},
   "source": [
    "### Análise de Performance por Líder de Região"
   ]
  },
  {
   "cell_type": "markdown",
   "metadata": {},
   "source": [
    "- Insight: Como os líderes de cada região (usando a tabela \"people\") estão performando em termos\n",
    "de vendas, devoluções e lucro?\n",
    "\n",
    "- Dashboard: Um gráfico comparativo de vendas, devoluções e lucro por líder de região."
   ]
  },
  {
   "cell_type": "code",
   "execution_count": null,
   "metadata": {},
   "outputs": [],
   "source": []
  },
  {
   "cell_type": "markdown",
   "metadata": {},
   "source": [
    "### Devoluções e Impacto no Lucro"
   ]
  },
  {
   "cell_type": "markdown",
   "metadata": {},
   "source": [
    "- Insight: Quais mercados ou produtos estão sofrendo mais com devoluções e como isso impacta o\n",
    "lucro total da empresa?\n",
    "\n",
    "- Dashboard: Um gráfico de barras empilhadas que mostre as vendas totais e o impacto das\n",
    "devoluções no lucro por mercado."
   ]
  },
  {
   "cell_type": "code",
   "execution_count": null,
   "metadata": {},
   "outputs": [],
   "source": []
  },
  {
   "cell_type": "markdown",
   "metadata": {},
   "source": [
    "### Margem de Lucro por Produto Considerando Devoluções"
   ]
  },
  {
   "cell_type": "markdown",
   "metadata": {},
   "source": [
    "- Insight: Quais produtos têm margens de lucro mais altas, mesmo considerando as devoluções?\n",
    "\n",
    "- Dashboard: Gráfico de barras horizontais com a margem de lucro (%) por produto, incluindo o\n",
    "impacto das devoluções."
   ]
  },
  {
   "cell_type": "markdown",
   "metadata": {},
   "source": []
  }
 ],
 "metadata": {
  "kernelspec": {
   "display_name": "venv",
   "language": "python",
   "name": "python3"
  },
  "language_info": {
   "codemirror_mode": {
    "name": "ipython",
    "version": 3
   },
   "file_extension": ".py",
   "mimetype": "text/x-python",
   "name": "python",
   "nbconvert_exporter": "python",
   "pygments_lexer": "ipython3",
   "version": "3.12.1"
  }
 },
 "nbformat": 4,
 "nbformat_minor": 2
}
