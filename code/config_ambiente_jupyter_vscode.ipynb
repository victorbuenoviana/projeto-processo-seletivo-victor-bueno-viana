{
 "cells": [
  {
   "cell_type": "code",
   "execution_count": 1,
   "metadata": {},
   "outputs": [],
   "source": [
    "# Para o VSCode, rodar essa célula vazia para instalar o kernel do Jupyter"
   ]
  },
  {
   "cell_type": "code",
   "execution_count": null,
   "metadata": {},
   "outputs": [],
   "source": [
    "# Atualizando a biblioteca para trabalhar com notebooks Jupyter\n",
    "\n",
    "! pip install nbformat==4.2.0\n",
    "! pip install --upgrade nbformat \n",
    "\n",
    "# OBS.: REINICIAR O KERNEL DO JUPYTER APÓS A ATUALIZAÇÃO DO nbformat"
   ]
  }
 ],
 "metadata": {
  "kernelspec": {
   "display_name": "venv",
   "language": "python",
   "name": "python3"
  },
  "language_info": {
   "codemirror_mode": {
    "name": "ipython",
    "version": 3
   },
   "file_extension": ".py",
   "mimetype": "text/x-python",
   "name": "python",
   "nbconvert_exporter": "python",
   "pygments_lexer": "ipython3",
   "version": "3.12.1"
  }
 },
 "nbformat": 4,
 "nbformat_minor": 2
}
